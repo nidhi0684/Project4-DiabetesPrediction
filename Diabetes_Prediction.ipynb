{
  "nbformat": 4,
  "nbformat_minor": 0,
  "metadata": {
    "colab": {
      "provenance": [],
      "include_colab_link": true
    },
    "kernelspec": {
      "name": "python3",
      "display_name": "Python 3"
    }
  },
  "cells": [
    {
      "cell_type": "markdown",
      "metadata": {
        "id": "view-in-github",
        "colab_type": "text"
      },
      "source": [
        "<a href=\"https://colab.research.google.com/github/nidhi0684/Project4-DiabetesPrediction/blob/main/Diabetes_Prediction.ipynb\" target=\"_parent\"><img src=\"https://colab.research.google.com/assets/colab-badge.svg\" alt=\"Open In Colab\"/></a>"
      ]
    },
    {
      "cell_type": "markdown",
      "source": [
        "# **Diabetes Prediction using LogisticRegression ML Model, Binary classification**\n",
        "\n",
        "## **Collaborators - Nidhi, Luis, Steven, Beauty, and Preeti**\n",
        "## Instructions to run\n",
        "*   Run all cells and locate output of last cell in PART 8\n",
        "*   Click on the URL provided by google colab which looks like this *https://\\<UUID\\>.colab.googleusercontent.com/*\n",
        "* UI for Diabetes Prediction will launch, which will take parameters such as Gender, Age, Hyptertension, Smoking History, Hb1Ac level, glucose levels.\n",
        "* Click on Predict button which will pop-up a message saying proabability percentage of subject being diabetic or not.\n",
        "\n",
        "## Code workflow\n",
        "* PART 1 through PART 3 is initial setup, cloning of repository, dataset exploration and cleanup\n",
        "* PART 4 through PART 7 is building, training, testing, and saving of the ML model\n",
        "* PART 8 is focused on building Flask app to build APIs that will render UI Home page and leverage ML model to predict probability of being Diabetic depending on the paremeters passed to model through Web UI\n"
      ],
      "metadata": {
        "id": "zhYFUNLqwbPP"
      }
    },
    {
      "cell_type": "markdown",
      "metadata": {
        "id": "Snq4iq_JOB4T"
      },
      "source": [
        "# PART 1 : Install Dependencies & Run Spark Session"
      ]
    },
    {
      "cell_type": "code",
      "metadata": {
        "id": "NpCRBcqtN5lH",
        "colab": {
          "base_uri": "https://localhost:8080/"
        },
        "outputId": "be87b7df-bf37-4261-cb43-8c009b619bed"
      },
      "source": [
        "# Install pyspark\n",
        "! pip install pyspark\n",
        "\n",
        "from pyspark.sql.functions import when, col"
      ],
      "execution_count": 1,
      "outputs": [
        {
          "output_type": "stream",
          "name": "stdout",
          "text": [
            "Collecting pyspark\n",
            "  Downloading pyspark-3.5.1.tar.gz (317.0 MB)\n",
            "\u001b[2K     \u001b[90m━━━━━━━━━━━━━━━━━━━━━━━━━━━━━━━━━━━━━━━━\u001b[0m \u001b[32m317.0/317.0 MB\u001b[0m \u001b[31m2.8 MB/s\u001b[0m eta \u001b[36m0:00:00\u001b[0m\n",
            "\u001b[?25h  Preparing metadata (setup.py) ... \u001b[?25l\u001b[?25hdone\n",
            "Requirement already satisfied: py4j==0.10.9.7 in /usr/local/lib/python3.10/dist-packages (from pyspark) (0.10.9.7)\n",
            "Building wheels for collected packages: pyspark\n",
            "  Building wheel for pyspark (setup.py) ... \u001b[?25l\u001b[?25hdone\n",
            "  Created wheel for pyspark: filename=pyspark-3.5.1-py2.py3-none-any.whl size=317488493 sha256=64ba57a871eef9c5d16726384d3a8f80cf3843581fcaf0787c7f27160cef1e71\n",
            "  Stored in directory: /root/.cache/pip/wheels/80/1d/60/2c256ed38dddce2fdd93be545214a63e02fbd8d74fb0b7f3a6\n",
            "Successfully built pyspark\n",
            "Installing collected packages: pyspark\n",
            "Successfully installed pyspark-3.5.1\n"
          ]
        }
      ]
    },
    {
      "cell_type": "code",
      "metadata": {
        "id": "GNZoOuDqOdxX"
      },
      "source": [
        "# Create a sparksession\n",
        "from pyspark.sql import SparkSession\n",
        "spark = SparkSession.builder.appName(\"spark\").getOrCreate()"
      ],
      "execution_count": 2,
      "outputs": []
    },
    {
      "cell_type": "markdown",
      "metadata": {
        "id": "5sG3MLXlOews"
      },
      "source": [
        "# PART 2: Clone & Explore dataset"
      ]
    },
    {
      "cell_type": "code",
      "source": [
        "# Cleanup code to remove Project-4 and model from /content directory so it can be cloned from github successfully\n",
        "import shutil\n",
        "import os\n",
        "\n",
        "# Specify the path to Project-4 to be deleted for cloning fresh repository\n",
        "directory_path = '/content/Project4-DiabetesPrediction'\n",
        "\n",
        "# Check if the directory exists before attempting to delete it\n",
        "if os.path.exists(directory_path):\n",
        "    shutil.rmtree(directory_path)\n",
        "    print(f\"The directory {directory_path} has been deleted.\")\n",
        "else:\n",
        "    print(f\"The directory {directory_path} does not exist.\")\n",
        "\n",
        "# Specify the path to model to be deleted for cloning fresh repository\n",
        "directory_path = '/content/model'\n",
        "\n",
        "# Check if the directory exists before attempting to delete it\n",
        "if os.path.exists(directory_path):\n",
        "    shutil.rmtree(directory_path)\n",
        "    print(f\"The directory {directory_path} has been deleted.\")\n",
        "else:\n",
        "    print(f\"The directory {directory_path} does not exist.\")"
      ],
      "metadata": {
        "id": "IRXIUmI314Iw",
        "outputId": "64580e01-e162-4abb-f73d-51b5299c6044",
        "colab": {
          "base_uri": "https://localhost:8080/"
        }
      },
      "execution_count": 6,
      "outputs": [
        {
          "output_type": "stream",
          "name": "stdout",
          "text": [
            "The directory /content/Project4-DiabetesPrediction has been deleted.\n",
            "The directory /content/model does not exist.\n"
          ]
        }
      ]
    },
    {
      "cell_type": "code",
      "metadata": {
        "id": "-Uh5H7_KOoSL",
        "colab": {
          "base_uri": "https://localhost:8080/"
        },
        "outputId": "b36d2b5d-36e3-4858-c6b7-0e71e95321f8"
      },
      "source": [
        "# Clone the diabetes dataset from the github repository\n",
        "! git clone  https://github.com/nidhi0684/Project4-DiabetesPrediction"
      ],
      "execution_count": 7,
      "outputs": [
        {
          "output_type": "stream",
          "name": "stdout",
          "text": [
            "Cloning into 'Project4-DiabetesPrediction'...\n",
            "remote: Enumerating objects: 16, done.\u001b[K\n",
            "remote: Counting objects:   6% (1/16)\u001b[K\rremote: Counting objects:  12% (2/16)\u001b[K\rremote: Counting objects:  18% (3/16)\u001b[K\rremote: Counting objects:  25% (4/16)\u001b[K\rremote: Counting objects:  31% (5/16)\u001b[K\rremote: Counting objects:  37% (6/16)\u001b[K\rremote: Counting objects:  43% (7/16)\u001b[K\rremote: Counting objects:  50% (8/16)\u001b[K\rremote: Counting objects:  56% (9/16)\u001b[K\rremote: Counting objects:  62% (10/16)\u001b[K\rremote: Counting objects:  68% (11/16)\u001b[K\rremote: Counting objects:  75% (12/16)\u001b[K\rremote: Counting objects:  81% (13/16)\u001b[K\rremote: Counting objects:  87% (14/16)\u001b[K\rremote: Counting objects:  93% (15/16)\u001b[K\rremote: Counting objects: 100% (16/16)\u001b[K\rremote: Counting objects: 100% (16/16), done.\u001b[K\n",
            "remote: Compressing objects: 100% (13/13), done.\u001b[K\n",
            "remote: Total 16 (delta 1), reused 13 (delta 1), pack-reused 0\u001b[K\n",
            "Receiving objects: 100% (16/16), 707.25 KiB | 5.48 MiB/s, done.\n",
            "Resolving deltas: 100% (1/1), done.\n"
          ]
        }
      ]
    },
    {
      "cell_type": "code",
      "metadata": {
        "id": "VcqwJRxVOutr",
        "colab": {
          "base_uri": "https://localhost:8080/"
        },
        "outputId": "fd4254ec-b29e-49e5-ac37-0256e54dc60f"
      },
      "source": [
        "# Check if the dataset exists\n",
        "! ls /content/Project4-DiabetesPrediction/dataset"
      ],
      "execution_count": 8,
      "outputs": [
        {
          "output_type": "stream",
          "name": "stdout",
          "text": [
            "diabetes_prediction_dataset.csv  diabetes_test_dataset.csv  new_test.csv\n"
          ]
        }
      ]
    },
    {
      "cell_type": "code",
      "metadata": {
        "id": "ST1rFFOlOu8s"
      },
      "source": [
        "# Create spark dataframe\n",
        "df_diabetes_data = spark.read.csv(\"/content/Project4-DiabetesPrediction/dataset/diabetes_prediction_dataset.csv\", header=True, inferSchema=True)"
      ],
      "execution_count": 9,
      "outputs": []
    },
    {
      "cell_type": "code",
      "metadata": {
        "id": "IiJm-pmROvKd",
        "colab": {
          "base_uri": "https://localhost:8080/"
        },
        "outputId": "66a88fa8-ca48-4f31-f3df-24d4207e045c"
      },
      "source": [
        "# Display the dataframe\n",
        "df_diabetes_data.show()"
      ],
      "execution_count": 10,
      "outputs": [
        {
          "output_type": "stream",
          "name": "stdout",
          "text": [
            "+------+----+------------+-------------+---------------+-----+-----------+-------------------+--------+\n",
            "|gender| age|hypertension|heart_disease|smoking_history|  bmi|HbA1c_level|blood_glucose_level|diabetes|\n",
            "+------+----+------------+-------------+---------------+-----+-----------+-------------------+--------+\n",
            "|Female|80.0|           0|            1|          never|25.19|        6.6|                140|       0|\n",
            "|Female|54.0|           0|            0|        No Info|27.32|        6.6|                 80|       0|\n",
            "|  Male|28.0|           0|            0|          never|27.32|        5.7|                158|       0|\n",
            "|Female|36.0|           0|            0|        current|23.45|        5.0|                155|       0|\n",
            "|  Male|76.0|           1|            1|        current|20.14|        4.8|                155|       0|\n",
            "|Female|20.0|           0|            0|          never|27.32|        6.6|                 85|       0|\n",
            "|Female|44.0|           0|            0|          never|19.31|        6.5|                200|       1|\n",
            "|Female|79.0|           0|            0|        No Info|23.86|        5.7|                 85|       0|\n",
            "|  Male|42.0|           0|            0|          never|33.64|        4.8|                145|       0|\n",
            "|Female|32.0|           0|            0|          never|27.32|        5.0|                100|       0|\n",
            "|Female|53.0|           0|            0|          never|27.32|        6.1|                 85|       0|\n",
            "|Female|54.0|           0|            0|         former| 54.7|        6.0|                100|       0|\n",
            "|Female|78.0|           0|            0|         former|36.05|        5.0|                130|       0|\n",
            "|Female|67.0|           0|            0|          never|25.69|        5.8|                200|       0|\n",
            "|Female|76.0|           0|            0|        No Info|27.32|        5.0|                160|       0|\n",
            "|  Male|78.0|           0|            0|        No Info|27.32|        6.6|                126|       0|\n",
            "|  Male|15.0|           0|            0|          never|30.36|        6.1|                200|       0|\n",
            "|Female|42.0|           0|            0|          never|24.48|        5.7|                158|       0|\n",
            "|Female|42.0|           0|            0|        No Info|27.32|        5.7|                 80|       0|\n",
            "|  Male|37.0|           0|            0|           ever|25.72|        3.5|                159|       0|\n",
            "+------+----+------------+-------------+---------------+-----+-----------+-------------------+--------+\n",
            "only showing top 20 rows\n",
            "\n"
          ]
        }
      ]
    },
    {
      "cell_type": "code",
      "source": [
        "# Show amount of rows\n",
        "df_diabetes_data.count()"
      ],
      "metadata": {
        "colab": {
          "base_uri": "https://localhost:8080/"
        },
        "id": "MKF7kv1AI2pw",
        "outputId": "59ec3cad-6ae7-4374-e060-24b3ca71bcb0"
      },
      "execution_count": 11,
      "outputs": [
        {
          "output_type": "execute_result",
          "data": {
            "text/plain": [
              "100000"
            ]
          },
          "metadata": {},
          "execution_count": 11
        }
      ]
    },
    {
      "cell_type": "code",
      "metadata": {
        "id": "Ulqkuz8aOvV6",
        "colab": {
          "base_uri": "https://localhost:8080/"
        },
        "outputId": "43332d9d-e8c3-4417-dd9a-2ef52af13719"
      },
      "source": [
        "# Print the schema\n",
        "df_diabetes_data.printSchema()"
      ],
      "execution_count": 12,
      "outputs": [
        {
          "output_type": "stream",
          "name": "stdout",
          "text": [
            "root\n",
            " |-- gender: string (nullable = true)\n",
            " |-- age: double (nullable = true)\n",
            " |-- hypertension: integer (nullable = true)\n",
            " |-- heart_disease: integer (nullable = true)\n",
            " |-- smoking_history: string (nullable = true)\n",
            " |-- bmi: double (nullable = true)\n",
            " |-- HbA1c_level: double (nullable = true)\n",
            " |-- blood_glucose_level: integer (nullable = true)\n",
            " |-- diabetes: integer (nullable = true)\n",
            "\n"
          ]
        }
      ]
    },
    {
      "cell_type": "code",
      "metadata": {
        "id": "kpZlF2S2Ovgw",
        "colab": {
          "base_uri": "https://localhost:8080/"
        },
        "outputId": "a9372174-54bb-425c-8c02-1a2ace5f4637"
      },
      "source": [
        "# Count the total no. of diabetic and non-diabetic class (values of 1 indicating the presence of diabetes and 0 indicating the absence of diabetes)\n",
        "print((df_diabetes_data.count(), len(df_diabetes_data.columns)))\n",
        "df_diabetes_data.groupBy('diabetes').count().show()"
      ],
      "execution_count": 13,
      "outputs": [
        {
          "output_type": "stream",
          "name": "stdout",
          "text": [
            "(100000, 9)\n",
            "+--------+-----+\n",
            "|diabetes|count|\n",
            "+--------+-----+\n",
            "|       1| 8500|\n",
            "|       0|91500|\n",
            "+--------+-----+\n",
            "\n"
          ]
        }
      ]
    },
    {
      "cell_type": "code",
      "source": [
        "# Count the total no. of gender types\n",
        "print((df_diabetes_data.count(), len(df_diabetes_data.columns)))\n",
        "df_diabetes_data.groupBy('gender').count().show()"
      ],
      "metadata": {
        "colab": {
          "base_uri": "https://localhost:8080/"
        },
        "id": "3f2sAuuh9iY7",
        "outputId": "8df0d7d3-94d2-4f0d-9839-1b03a686d010"
      },
      "execution_count": 14,
      "outputs": [
        {
          "output_type": "stream",
          "name": "stdout",
          "text": [
            "(100000, 9)\n",
            "+------+-----+\n",
            "|gender|count|\n",
            "+------+-----+\n",
            "|Female|58552|\n",
            "| Other|   18|\n",
            "|  Male|41430|\n",
            "+------+-----+\n",
            "\n"
          ]
        }
      ]
    },
    {
      "cell_type": "code",
      "source": [
        "# Check to see if there are any empty values in the 'gender' column\n",
        "df_diabetes_data[df_diabetes_data['gender'] == '']"
      ],
      "metadata": {
        "colab": {
          "base_uri": "https://localhost:8080/"
        },
        "id": "muPOXP7dF2Jl",
        "outputId": "6ae34b53-de97-4236-d13a-2a39b51b0a81"
      },
      "execution_count": 15,
      "outputs": [
        {
          "output_type": "execute_result",
          "data": {
            "text/plain": [
              "DataFrame[gender: string, age: double, hypertension: int, heart_disease: int, smoking_history: string, bmi: double, HbA1c_level: double, blood_glucose_level: int, diabetes: int]"
            ]
          },
          "metadata": {},
          "execution_count": 15
        }
      ]
    },
    {
      "cell_type": "code",
      "metadata": {
        "id": "NewCNZEMOvtM",
        "colab": {
          "base_uri": "https://localhost:8080/"
        },
        "outputId": "0e691b28-bf4f-49d4-b21f-8e77f199f06c"
      },
      "source": [
        "# Get the summary statistics\n",
        "df_diabetes_data.describe().show()"
      ],
      "execution_count": 16,
      "outputs": [
        {
          "output_type": "stream",
          "name": "stdout",
          "text": [
            "+-------+------+-----------------+------------------+------------------+---------------+-----------------+------------------+-------------------+-------------------+\n",
            "|summary|gender|              age|      hypertension|     heart_disease|smoking_history|              bmi|       HbA1c_level|blood_glucose_level|           diabetes|\n",
            "+-------+------+-----------------+------------------+------------------+---------------+-----------------+------------------+-------------------+-------------------+\n",
            "|  count|100000|           100000|            100000|            100000|         100000|           100000|            100000|             100000|             100000|\n",
            "|   mean|  NULL|41.88585600000013|           0.07485|           0.03942|           NULL|27.32076709999422|5.5275069999983275|          138.05806|              0.085|\n",
            "| stddev|  NULL|22.51683987161704|0.2631504702289171|0.1945930169980986|           NULL|6.636783416648357|1.0706720918835468|  40.70813604870383|0.27888308976661896|\n",
            "|    min|Female|             0.08|                 0|                 0|        No Info|            10.01|               3.5|                 80|                  0|\n",
            "|    max| Other|             80.0|                 1|                 1|    not current|            95.69|               9.0|                300|                  1|\n",
            "+-------+------+-----------------+------------------+------------------+---------------+-----------------+------------------+-------------------+-------------------+\n",
            "\n"
          ]
        }
      ]
    },
    {
      "cell_type": "markdown",
      "metadata": {
        "id": "gZerPOR-OyjQ"
      },
      "source": [
        "# PART 3: Data Cleaning & Preparation"
      ]
    },
    {
      "cell_type": "code",
      "metadata": {
        "id": "Q-KkJvV_PFFU",
        "colab": {
          "base_uri": "https://localhost:8080/"
        },
        "outputId": "81a91131-4658-4881-b3d1-6918ebbba23c"
      },
      "source": [
        "# Check for null values\n",
        "for col in df_diabetes_data.columns:\n",
        "  print(col + \":\", df_diabetes_data[df_diabetes_data[col].isNull()].count())"
      ],
      "execution_count": 17,
      "outputs": [
        {
          "output_type": "stream",
          "name": "stdout",
          "text": [
            "gender: 0\n",
            "age: 0\n",
            "hypertension: 0\n",
            "heart_disease: 0\n",
            "smoking_history: 0\n",
            "bmi: 0\n",
            "HbA1c_level: 0\n",
            "blood_glucose_level: 0\n",
            "diabetes: 0\n"
          ]
        }
      ]
    },
    {
      "cell_type": "code",
      "metadata": {
        "id": "ZJsbgwZMPFQC"
      },
      "source": [
        "# Function to look for the unnecessary values present\n",
        "def count_zeros():\n",
        "  columns_list = [\"age\", \"bmi\", \"HbA1c_level\", \"blood_glucose_level\"]\n",
        "  for i in columns_list:\n",
        "    print(i+\":\",df_diabetes_data[df_diabetes_data[i]==0].count())"
      ],
      "execution_count": 19,
      "outputs": []
    },
    {
      "cell_type": "code",
      "metadata": {
        "id": "pcXTErb9PFbo",
        "colab": {
          "base_uri": "https://localhost:8080/"
        },
        "outputId": "79740f30-4913-4100-bda8-8f7322c3a0b4"
      },
      "source": [
        "count_zeros()"
      ],
      "execution_count": 20,
      "outputs": [
        {
          "output_type": "stream",
          "name": "stdout",
          "text": [
            "age: 0\n",
            "bmi: 0\n",
            "HbA1c_level: 0\n",
            "blood_glucose_level: 0\n"
          ]
        }
      ]
    },
    {
      "cell_type": "code",
      "metadata": {
        "id": "C0bk0Ps_PFwk",
        "colab": {
          "base_uri": "https://localhost:8080/"
        },
        "outputId": "3ead12de-f775-44f3-8578-f0b9e980aaef"
      },
      "source": [
        "# Display the dataframe\n",
        "df_diabetes_data.show()"
      ],
      "execution_count": 21,
      "outputs": [
        {
          "output_type": "stream",
          "name": "stdout",
          "text": [
            "+------+----+------------+-------------+---------------+-----+-----------+-------------------+--------+\n",
            "|gender| age|hypertension|heart_disease|smoking_history|  bmi|HbA1c_level|blood_glucose_level|diabetes|\n",
            "+------+----+------------+-------------+---------------+-----+-----------+-------------------+--------+\n",
            "|Female|80.0|           0|            1|          never|25.19|        6.6|                140|       0|\n",
            "|Female|54.0|           0|            0|        No Info|27.32|        6.6|                 80|       0|\n",
            "|  Male|28.0|           0|            0|          never|27.32|        5.7|                158|       0|\n",
            "|Female|36.0|           0|            0|        current|23.45|        5.0|                155|       0|\n",
            "|  Male|76.0|           1|            1|        current|20.14|        4.8|                155|       0|\n",
            "|Female|20.0|           0|            0|          never|27.32|        6.6|                 85|       0|\n",
            "|Female|44.0|           0|            0|          never|19.31|        6.5|                200|       1|\n",
            "|Female|79.0|           0|            0|        No Info|23.86|        5.7|                 85|       0|\n",
            "|  Male|42.0|           0|            0|          never|33.64|        4.8|                145|       0|\n",
            "|Female|32.0|           0|            0|          never|27.32|        5.0|                100|       0|\n",
            "|Female|53.0|           0|            0|          never|27.32|        6.1|                 85|       0|\n",
            "|Female|54.0|           0|            0|         former| 54.7|        6.0|                100|       0|\n",
            "|Female|78.0|           0|            0|         former|36.05|        5.0|                130|       0|\n",
            "|Female|67.0|           0|            0|          never|25.69|        5.8|                200|       0|\n",
            "|Female|76.0|           0|            0|        No Info|27.32|        5.0|                160|       0|\n",
            "|  Male|78.0|           0|            0|        No Info|27.32|        6.6|                126|       0|\n",
            "|  Male|15.0|           0|            0|          never|30.36|        6.1|                200|       0|\n",
            "|Female|42.0|           0|            0|          never|24.48|        5.7|                158|       0|\n",
            "|Female|42.0|           0|            0|        No Info|27.32|        5.7|                 80|       0|\n",
            "|  Male|37.0|           0|            0|           ever|25.72|        3.5|                159|       0|\n",
            "+------+----+------------+-------------+---------------+-----+-----------+-------------------+--------+\n",
            "only showing top 20 rows\n",
            "\n"
          ]
        }
      ]
    },
    {
      "cell_type": "code",
      "source": [
        "# Drop the 'other' rows in the gender columns\n",
        "string_to_remove = \"Other\"\n",
        "df_diabetes_data = df_diabetes_data[df_diabetes_data['Gender'] != string_to_remove]"
      ],
      "metadata": {
        "id": "E1k77q7hKhIo"
      },
      "execution_count": 22,
      "outputs": []
    },
    {
      "cell_type": "code",
      "source": [
        "# Count the total no. of gender types\n",
        "print((df_diabetes_data.count(), len(df_diabetes_data.columns)))\n",
        "df_diabetes_data.groupBy('gender').count().show()"
      ],
      "metadata": {
        "colab": {
          "base_uri": "https://localhost:8080/"
        },
        "id": "OXDmlg6KZgTn",
        "outputId": "4d892578-b946-4b3c-c8f2-9b8355a4f628"
      },
      "execution_count": 23,
      "outputs": [
        {
          "output_type": "stream",
          "name": "stdout",
          "text": [
            "(99982, 9)\n",
            "+------+-----+\n",
            "|gender|count|\n",
            "+------+-----+\n",
            "|Female|58552|\n",
            "|  Male|41430|\n",
            "+------+-----+\n",
            "\n"
          ]
        }
      ]
    },
    {
      "cell_type": "code",
      "source": [
        "# Count the total no. of smoker/non-smoker types\n",
        "print((df_diabetes_data.count(), len(df_diabetes_data.columns)))\n",
        "df_diabetes_data.groupBy('smoking_history').count().show()"
      ],
      "metadata": {
        "colab": {
          "base_uri": "https://localhost:8080/"
        },
        "id": "xwwTUAJLZ72A",
        "outputId": "b2d9ca8c-4f66-4f3f-d8c4-1da0b09cb3fd"
      },
      "execution_count": 24,
      "outputs": [
        {
          "output_type": "stream",
          "name": "stdout",
          "text": [
            "(99982, 9)\n",
            "+---------------+-----+\n",
            "|smoking_history|count|\n",
            "+---------------+-----+\n",
            "|    not current| 6439|\n",
            "|         former| 9352|\n",
            "|        No Info|35810|\n",
            "|        current| 9286|\n",
            "|          never|35092|\n",
            "|           ever| 4003|\n",
            "+---------------+-----+\n",
            "\n"
          ]
        }
      ]
    },
    {
      "cell_type": "code",
      "source": [
        "# Drop the 'No Info' rows in the smoking_history columns\n",
        "string_to_remove_1= \"No Info\"\n",
        "df_diabetes_data = df_diabetes_data[df_diabetes_data['smoking_history'] != string_to_remove_1]"
      ],
      "metadata": {
        "id": "KdN7OCA1cDnb"
      },
      "execution_count": 26,
      "outputs": []
    },
    {
      "cell_type": "code",
      "source": [
        "# Count the total no. of smoker/non-smoker types\n",
        "print((df_diabetes_data.count(), len(df_diabetes_data.columns)))\n",
        "df_diabetes_data.groupBy('smoking_history').count().show()"
      ],
      "metadata": {
        "colab": {
          "base_uri": "https://localhost:8080/"
        },
        "id": "ZbxmgHOFcoEb",
        "outputId": "33113742-858a-4c20-f4b4-cb79cad11268"
      },
      "execution_count": 27,
      "outputs": [
        {
          "output_type": "stream",
          "name": "stdout",
          "text": [
            "(64172, 9)\n",
            "+---------------+-----+\n",
            "|smoking_history|count|\n",
            "+---------------+-----+\n",
            "|    not current| 6439|\n",
            "|         former| 9352|\n",
            "|        current| 9286|\n",
            "|          never|35092|\n",
            "|           ever| 4003|\n",
            "+---------------+-----+\n",
            "\n"
          ]
        }
      ]
    },
    {
      "cell_type": "code",
      "source": [
        "# Count the total no. of gender types after smoking_history cleanup\n",
        "print((df_diabetes_data.count(), len(df_diabetes_data.columns)))\n",
        "df_diabetes_data.groupBy('gender').count().show()"
      ],
      "metadata": {
        "colab": {
          "base_uri": "https://localhost:8080/"
        },
        "id": "ZKJc4_sLh_pJ",
        "outputId": "ace8398c-f351-4171-dd1f-3f35ad85b661"
      },
      "execution_count": 28,
      "outputs": [
        {
          "output_type": "stream",
          "name": "stdout",
          "text": [
            "(64172, 9)\n",
            "+------+-----+\n",
            "|gender|count|\n",
            "+------+-----+\n",
            "|Female|38852|\n",
            "|  Male|25320|\n",
            "+------+-----+\n",
            "\n"
          ]
        }
      ]
    },
    {
      "cell_type": "code",
      "source": [
        "# Assign in the 'gender'column 'Female' = 0, and 'Male' = 1\n",
        "from pyspark.sql.functions import when, col\n",
        "df_diabetes_data = df_diabetes_data.withColumn(\"gender\",\n",
        "    when(col(\"gender\") == \"Female\", 0).\n",
        "    when(col(\"gender\") == \"Male\", 1).\n",
        "    otherwise(col(\"gender\"))\n",
        ")\n",
        "df_diabetes_data.show()"
      ],
      "metadata": {
        "colab": {
          "base_uri": "https://localhost:8080/"
        },
        "id": "ZlK0I77Di1Yq",
        "outputId": "20ad7495-f5ee-48a5-abd6-fd2c6c69bb1b"
      },
      "execution_count": 29,
      "outputs": [
        {
          "output_type": "stream",
          "name": "stdout",
          "text": [
            "+------+----+------------+-------------+---------------+-----+-----------+-------------------+--------+\n",
            "|gender| age|hypertension|heart_disease|smoking_history|  bmi|HbA1c_level|blood_glucose_level|diabetes|\n",
            "+------+----+------------+-------------+---------------+-----+-----------+-------------------+--------+\n",
            "|     0|80.0|           0|            1|          never|25.19|        6.6|                140|       0|\n",
            "|     1|28.0|           0|            0|          never|27.32|        5.7|                158|       0|\n",
            "|     0|36.0|           0|            0|        current|23.45|        5.0|                155|       0|\n",
            "|     1|76.0|           1|            1|        current|20.14|        4.8|                155|       0|\n",
            "|     0|20.0|           0|            0|          never|27.32|        6.6|                 85|       0|\n",
            "|     0|44.0|           0|            0|          never|19.31|        6.5|                200|       1|\n",
            "|     1|42.0|           0|            0|          never|33.64|        4.8|                145|       0|\n",
            "|     0|32.0|           0|            0|          never|27.32|        5.0|                100|       0|\n",
            "|     0|53.0|           0|            0|          never|27.32|        6.1|                 85|       0|\n",
            "|     0|54.0|           0|            0|         former| 54.7|        6.0|                100|       0|\n",
            "|     0|78.0|           0|            0|         former|36.05|        5.0|                130|       0|\n",
            "|     0|67.0|           0|            0|          never|25.69|        5.8|                200|       0|\n",
            "|     1|15.0|           0|            0|          never|30.36|        6.1|                200|       0|\n",
            "|     0|42.0|           0|            0|          never|24.48|        5.7|                158|       0|\n",
            "|     1|37.0|           0|            0|           ever|25.72|        3.5|                159|       0|\n",
            "|     1|40.0|           0|            0|        current|36.38|        6.0|                 90|       0|\n",
            "|     0|69.0|           0|            0|          never|21.24|        4.8|                 85|       0|\n",
            "|     0|72.0|           0|            1|         former|27.94|        6.5|                130|       0|\n",
            "|     1|30.0|           0|            0|          never|33.76|        6.1|                126|       0|\n",
            "|     1|67.0|           0|            1|    not current|27.32|        6.5|                200|       1|\n",
            "+------+----+------------+-------------+---------------+-----+-----------+-------------------+--------+\n",
            "only showing top 20 rows\n",
            "\n"
          ]
        }
      ]
    },
    {
      "cell_type": "code",
      "source": [
        "# Assign in the 'smoking_history': \"never\" = 0, \"ever\" = 1, \"not current\" = 2, \"current\" = 3, \"former\" = 4\n",
        "df_diabetes_data = df_diabetes_data.withColumn(\"smoking_history\",\n",
        "    when(col(\"smoking_history\") == \"never\", 0).\n",
        "    when(col(\"smoking_history\") == \"ever\", 1).\n",
        "    when(col(\"smoking_history\") == \"not current\", 2).\n",
        "    when(col(\"smoking_history\") == \"current\", 3).\n",
        "    when(col(\"smoking_history\") == \"former\", 4).\n",
        "    otherwise(col(\"smoking_history\"))\n",
        ")\n",
        "df_diabetes_data.show()"
      ],
      "metadata": {
        "colab": {
          "base_uri": "https://localhost:8080/"
        },
        "id": "j3RHqrEwlS_e",
        "outputId": "ae2a93f2-e554-4aaa-e563-d857a086fd77"
      },
      "execution_count": 30,
      "outputs": [
        {
          "output_type": "stream",
          "name": "stdout",
          "text": [
            "+------+----+------------+-------------+---------------+-----+-----------+-------------------+--------+\n",
            "|gender| age|hypertension|heart_disease|smoking_history|  bmi|HbA1c_level|blood_glucose_level|diabetes|\n",
            "+------+----+------------+-------------+---------------+-----+-----------+-------------------+--------+\n",
            "|     0|80.0|           0|            1|              0|25.19|        6.6|                140|       0|\n",
            "|     1|28.0|           0|            0|              0|27.32|        5.7|                158|       0|\n",
            "|     0|36.0|           0|            0|              3|23.45|        5.0|                155|       0|\n",
            "|     1|76.0|           1|            1|              3|20.14|        4.8|                155|       0|\n",
            "|     0|20.0|           0|            0|              0|27.32|        6.6|                 85|       0|\n",
            "|     0|44.0|           0|            0|              0|19.31|        6.5|                200|       1|\n",
            "|     1|42.0|           0|            0|              0|33.64|        4.8|                145|       0|\n",
            "|     0|32.0|           0|            0|              0|27.32|        5.0|                100|       0|\n",
            "|     0|53.0|           0|            0|              0|27.32|        6.1|                 85|       0|\n",
            "|     0|54.0|           0|            0|              4| 54.7|        6.0|                100|       0|\n",
            "|     0|78.0|           0|            0|              4|36.05|        5.0|                130|       0|\n",
            "|     0|67.0|           0|            0|              0|25.69|        5.8|                200|       0|\n",
            "|     1|15.0|           0|            0|              0|30.36|        6.1|                200|       0|\n",
            "|     0|42.0|           0|            0|              0|24.48|        5.7|                158|       0|\n",
            "|     1|37.0|           0|            0|              1|25.72|        3.5|                159|       0|\n",
            "|     1|40.0|           0|            0|              3|36.38|        6.0|                 90|       0|\n",
            "|     0|69.0|           0|            0|              0|21.24|        4.8|                 85|       0|\n",
            "|     0|72.0|           0|            1|              4|27.94|        6.5|                130|       0|\n",
            "|     1|30.0|           0|            0|              0|33.76|        6.1|                126|       0|\n",
            "|     1|67.0|           0|            1|              2|27.32|        6.5|                200|       1|\n",
            "+------+----+------------+-------------+---------------+-----+-----------+-------------------+--------+\n",
            "only showing top 20 rows\n",
            "\n"
          ]
        }
      ]
    },
    {
      "cell_type": "markdown",
      "metadata": {
        "id": "LOgSTdBpPs7G"
      },
      "source": [
        "# PART 4: Correlation Analysis & Feature Selection"
      ]
    },
    {
      "cell_type": "code",
      "source": [
        "# gender and smoking_history needs to be converted to float data type for model to work\n",
        "df_diabetes_data = df_diabetes_data.withColumn(\"gender\", col(\"gender\").cast('float'))\n",
        "df_diabetes_data = df_diabetes_data.withColumn(\"smoking_history\", col(\"smoking_history\").cast('float'))\n",
        "df_diabetes_data.show()\n"
      ],
      "metadata": {
        "id": "PVQ4iahSjL63",
        "outputId": "fb06b993-af08-4666-f7cd-0a1cc49b2a90",
        "colab": {
          "base_uri": "https://localhost:8080/"
        }
      },
      "execution_count": 31,
      "outputs": [
        {
          "output_type": "stream",
          "name": "stdout",
          "text": [
            "+------+----+------------+-------------+---------------+-----+-----------+-------------------+--------+\n",
            "|gender| age|hypertension|heart_disease|smoking_history|  bmi|HbA1c_level|blood_glucose_level|diabetes|\n",
            "+------+----+------------+-------------+---------------+-----+-----------+-------------------+--------+\n",
            "|   0.0|80.0|           0|            1|            0.0|25.19|        6.6|                140|       0|\n",
            "|   1.0|28.0|           0|            0|            0.0|27.32|        5.7|                158|       0|\n",
            "|   0.0|36.0|           0|            0|            3.0|23.45|        5.0|                155|       0|\n",
            "|   1.0|76.0|           1|            1|            3.0|20.14|        4.8|                155|       0|\n",
            "|   0.0|20.0|           0|            0|            0.0|27.32|        6.6|                 85|       0|\n",
            "|   0.0|44.0|           0|            0|            0.0|19.31|        6.5|                200|       1|\n",
            "|   1.0|42.0|           0|            0|            0.0|33.64|        4.8|                145|       0|\n",
            "|   0.0|32.0|           0|            0|            0.0|27.32|        5.0|                100|       0|\n",
            "|   0.0|53.0|           0|            0|            0.0|27.32|        6.1|                 85|       0|\n",
            "|   0.0|54.0|           0|            0|            4.0| 54.7|        6.0|                100|       0|\n",
            "|   0.0|78.0|           0|            0|            4.0|36.05|        5.0|                130|       0|\n",
            "|   0.0|67.0|           0|            0|            0.0|25.69|        5.8|                200|       0|\n",
            "|   1.0|15.0|           0|            0|            0.0|30.36|        6.1|                200|       0|\n",
            "|   0.0|42.0|           0|            0|            0.0|24.48|        5.7|                158|       0|\n",
            "|   1.0|37.0|           0|            0|            1.0|25.72|        3.5|                159|       0|\n",
            "|   1.0|40.0|           0|            0|            3.0|36.38|        6.0|                 90|       0|\n",
            "|   0.0|69.0|           0|            0|            0.0|21.24|        4.8|                 85|       0|\n",
            "|   0.0|72.0|           0|            1|            4.0|27.94|        6.5|                130|       0|\n",
            "|   1.0|30.0|           0|            0|            0.0|33.76|        6.1|                126|       0|\n",
            "|   1.0|67.0|           0|            1|            2.0|27.32|        6.5|                200|       1|\n",
            "+------+----+------------+-------------+---------------+-----+-----------+-------------------+--------+\n",
            "only showing top 20 rows\n",
            "\n"
          ]
        }
      ]
    },
    {
      "cell_type": "code",
      "metadata": {
        "id": "7Eq6jdcFP_3C",
        "colab": {
          "base_uri": "https://localhost:8080/"
        },
        "outputId": "3a6a36f8-f7a5-42b4-d16a-3b6fbfe884f0"
      },
      "source": [
        "# Find the correlation among the set of input & output variables\n",
        "for i in df_diabetes_data.columns:\n",
        "  print(\"Correlation to outcome for {} is {}\".format(i, df_diabetes_data.stat.corr(\"diabetes\",i)))"
      ],
      "execution_count": 32,
      "outputs": [
        {
          "output_type": "stream",
          "name": "stdout",
          "text": [
            "Correlation to outcome for gender is 0.05699689368565596\n",
            "Correlation to outcome for age is 0.26084962459224337\n",
            "Correlation to outcome for hypertension is 0.19222574901207254\n",
            "Correlation to outcome for heart_disease is 0.16961397731730365\n",
            "Correlation to outcome for smoking_history is 0.06472564826560573\n",
            "Correlation to outcome for bmi is 0.20442115545137657\n",
            "Correlation to outcome for HbA1c_level is 0.43889709468177335\n",
            "Correlation to outcome for blood_glucose_level is 0.449697968864106\n",
            "Correlation to outcome for diabetes is 1.0\n"
          ]
        }
      ]
    },
    {
      "cell_type": "code",
      "metadata": {
        "id": "Fl7Edj-OQACn"
      },
      "source": [
        "# Feature selection\n",
        "from pyspark.ml.feature import VectorAssembler\n",
        "\n",
        "assembler = VectorAssembler(inputCols = ['gender', 'age', 'hypertension', 'heart_disease',\n",
        "                                         'smoking_history', 'bmi', 'HbA1c_level', 'blood_glucose_level'], outputCol='features')\n",
        "output_data = assembler.transform(df_diabetes_data)"
      ],
      "execution_count": 33,
      "outputs": []
    },
    {
      "cell_type": "code",
      "metadata": {
        "id": "mJKrfqdaQAOy",
        "colab": {
          "base_uri": "https://localhost:8080/"
        },
        "outputId": "ab152530-f292-4634-91f9-820c0f14617d"
      },
      "source": [
        "# Print the schema\n",
        "output_data.printSchema()"
      ],
      "execution_count": 34,
      "outputs": [
        {
          "output_type": "stream",
          "name": "stdout",
          "text": [
            "root\n",
            " |-- gender: float (nullable = true)\n",
            " |-- age: double (nullable = true)\n",
            " |-- hypertension: integer (nullable = true)\n",
            " |-- heart_disease: integer (nullable = true)\n",
            " |-- smoking_history: float (nullable = true)\n",
            " |-- bmi: double (nullable = true)\n",
            " |-- HbA1c_level: double (nullable = true)\n",
            " |-- blood_glucose_level: integer (nullable = true)\n",
            " |-- diabetes: integer (nullable = true)\n",
            " |-- features: vector (nullable = true)\n",
            "\n"
          ]
        }
      ]
    },
    {
      "cell_type": "code",
      "metadata": {
        "id": "FURl7qESQAaQ",
        "colab": {
          "base_uri": "https://localhost:8080/"
        },
        "outputId": "51aba563-894a-4029-bac9-6fc868ec7a96"
      },
      "source": [
        "# Display dataframe\n",
        "output_data.show()"
      ],
      "execution_count": 35,
      "outputs": [
        {
          "output_type": "stream",
          "name": "stdout",
          "text": [
            "+------+----+------------+-------------+---------------+-----+-----------+-------------------+--------+--------------------+\n",
            "|gender| age|hypertension|heart_disease|smoking_history|  bmi|HbA1c_level|blood_glucose_level|diabetes|            features|\n",
            "+------+----+------------+-------------+---------------+-----+-----------+-------------------+--------+--------------------+\n",
            "|   0.0|80.0|           0|            1|            0.0|25.19|        6.6|                140|       0|[0.0,80.0,0.0,1.0...|\n",
            "|   1.0|28.0|           0|            0|            0.0|27.32|        5.7|                158|       0|[1.0,28.0,0.0,0.0...|\n",
            "|   0.0|36.0|           0|            0|            3.0|23.45|        5.0|                155|       0|[0.0,36.0,0.0,0.0...|\n",
            "|   1.0|76.0|           1|            1|            3.0|20.14|        4.8|                155|       0|[1.0,76.0,1.0,1.0...|\n",
            "|   0.0|20.0|           0|            0|            0.0|27.32|        6.6|                 85|       0|(8,[1,5,6,7],[20....|\n",
            "|   0.0|44.0|           0|            0|            0.0|19.31|        6.5|                200|       1|(8,[1,5,6,7],[44....|\n",
            "|   1.0|42.0|           0|            0|            0.0|33.64|        4.8|                145|       0|[1.0,42.0,0.0,0.0...|\n",
            "|   0.0|32.0|           0|            0|            0.0|27.32|        5.0|                100|       0|(8,[1,5,6,7],[32....|\n",
            "|   0.0|53.0|           0|            0|            0.0|27.32|        6.1|                 85|       0|(8,[1,5,6,7],[53....|\n",
            "|   0.0|54.0|           0|            0|            4.0| 54.7|        6.0|                100|       0|[0.0,54.0,0.0,0.0...|\n",
            "|   0.0|78.0|           0|            0|            4.0|36.05|        5.0|                130|       0|[0.0,78.0,0.0,0.0...|\n",
            "|   0.0|67.0|           0|            0|            0.0|25.69|        5.8|                200|       0|(8,[1,5,6,7],[67....|\n",
            "|   1.0|15.0|           0|            0|            0.0|30.36|        6.1|                200|       0|[1.0,15.0,0.0,0.0...|\n",
            "|   0.0|42.0|           0|            0|            0.0|24.48|        5.7|                158|       0|(8,[1,5,6,7],[42....|\n",
            "|   1.0|37.0|           0|            0|            1.0|25.72|        3.5|                159|       0|[1.0,37.0,0.0,0.0...|\n",
            "|   1.0|40.0|           0|            0|            3.0|36.38|        6.0|                 90|       0|[1.0,40.0,0.0,0.0...|\n",
            "|   0.0|69.0|           0|            0|            0.0|21.24|        4.8|                 85|       0|(8,[1,5,6,7],[69....|\n",
            "|   0.0|72.0|           0|            1|            4.0|27.94|        6.5|                130|       0|[0.0,72.0,0.0,1.0...|\n",
            "|   1.0|30.0|           0|            0|            0.0|33.76|        6.1|                126|       0|[1.0,30.0,0.0,0.0...|\n",
            "|   1.0|67.0|           0|            1|            2.0|27.32|        6.5|                200|       1|[1.0,67.0,0.0,1.0...|\n",
            "+------+----+------------+-------------+---------------+-----+-----------+-------------------+--------+--------------------+\n",
            "only showing top 20 rows\n",
            "\n"
          ]
        }
      ]
    },
    {
      "cell_type": "markdown",
      "metadata": {
        "id": "8fSjOdfyQA99"
      },
      "source": [
        "# PART 5: Split Dataset & Build the Model"
      ]
    },
    {
      "cell_type": "code",
      "metadata": {
        "id": "F89--FiVQQJn"
      },
      "source": [
        "# Create final data\n",
        "from pyspark.ml.classification import LogisticRegression\n",
        "\n",
        "final_data = output_data.select('features','diabetes')"
      ],
      "execution_count": 36,
      "outputs": []
    },
    {
      "cell_type": "code",
      "metadata": {
        "id": "cKpm5912Qji_",
        "colab": {
          "base_uri": "https://localhost:8080/"
        },
        "outputId": "7de4b4ae-e375-4aff-cb71-aa26cf477aca"
      },
      "source": [
        "# Print schema of final data\n",
        "final_data.printSchema()"
      ],
      "execution_count": 37,
      "outputs": [
        {
          "output_type": "stream",
          "name": "stdout",
          "text": [
            "root\n",
            " |-- features: vector (nullable = true)\n",
            " |-- diabetes: integer (nullable = true)\n",
            "\n"
          ]
        }
      ]
    },
    {
      "cell_type": "code",
      "metadata": {
        "id": "r_Nom7aZQjuN"
      },
      "source": [
        "# Split the dataset and build the model. 70% used for training and 30% for testing\n",
        "train, test = final_data.randomSplit([0.7, 0.3])\n",
        "models = LogisticRegression(labelCol= 'diabetes')\n",
        "model = models.fit(train)"
      ],
      "execution_count": 38,
      "outputs": []
    },
    {
      "cell_type": "code",
      "metadata": {
        "id": "OljO2HcIQj7E",
        "colab": {
          "base_uri": "https://localhost:8080/"
        },
        "outputId": "e308b0bf-8148-444b-f003-af6426909371"
      },
      "source": [
        "# Summary of the model\n",
        "summary = model.summary\n",
        "summary.predictions.describe().show()"
      ],
      "execution_count": 39,
      "outputs": [
        {
          "output_type": "stream",
          "name": "stdout",
          "text": [
            "+-------+-------------------+-------------------+\n",
            "|summary|           diabetes|         prediction|\n",
            "+-------+-------------------+-------------------+\n",
            "|  count|              45013|              45013|\n",
            "|   mean| 0.1106569213338369|0.08219847599582343|\n",
            "| stddev|0.31371030178227927|0.27466991567918575|\n",
            "|    min|                0.0|                0.0|\n",
            "|    max|                1.0|                1.0|\n",
            "+-------+-------------------+-------------------+\n",
            "\n"
          ]
        }
      ]
    },
    {
      "cell_type": "markdown",
      "metadata": {
        "id": "DfaD_vzfQkah"
      },
      "source": [
        "# PART 6: Evaluate and Save the Model"
      ]
    },
    {
      "cell_type": "code",
      "metadata": {
        "id": "CHC5Erq7Q4QN"
      },
      "source": [
        "# Test the model with test set reserved from the dataset\n",
        "from pyspark.ml.evaluation import BinaryClassificationEvaluator\n",
        "\n",
        "predictions = model.evaluate(test)"
      ],
      "execution_count": 41,
      "outputs": []
    },
    {
      "cell_type": "code",
      "metadata": {
        "id": "UBltVqoNQ4cM",
        "colab": {
          "base_uri": "https://localhost:8080/"
        },
        "outputId": "a8d624cc-5470-4baf-fe16-af14b6daad42"
      },
      "source": [
        "predictions.predictions.show(100)"
      ],
      "execution_count": 42,
      "outputs": [
        {
          "output_type": "stream",
          "name": "stdout",
          "text": [
            "+--------------------+--------+--------------------+--------------------+----------+\n",
            "|            features|diabetes|       rawPrediction|         probability|prediction|\n",
            "+--------------------+--------+--------------------+--------------------+----------+\n",
            "|(8,[1,5,6,7],[0.4...|       0|[6.27758552810036...|[0.99812559067588...|       0.0|\n",
            "|(8,[1,5,6,7],[0.4...|       0|[10.4145971919036...|[0.99997000941872...|       0.0|\n",
            "|(8,[1,5,6,7],[0.6...|       0|[6.55446258252596...|[0.99857827636751...|       0.0|\n",
            "|(8,[1,5,6,7],[0.7...|       0|[9.64552196406055...|[0.99993528947376...|       0.0|\n",
            "|(8,[1,5,6,7],[0.7...|       0|[6.60744458886748...|[0.99865154253228...|       0.0|\n",
            "|(8,[1,5,6,7],[0.8...|       0|[5.72092219564637...|[0.99673401385542...|       0.0|\n",
            "|(8,[1,5,6,7],[1.2...|       0|[5.12868957687114...|[0.99411057209461...|       0.0|\n",
            "|(8,[1,5,6,7],[1.2...|       0|[7.36279745441235...|[0.99936598102468...|       0.0|\n",
            "|(8,[1,5,6,7],[1.3...|       0|[14.3748488022489...|[0.99999942841313...|       0.0|\n",
            "|(8,[1,5,6,7],[1.3...|       0|[12.1729432988756...|[0.99999483160554...|       0.0|\n",
            "|(8,[1,5,6,7],[1.4...|       0|[6.65696216012188...|[0.99871660501387...|       0.0|\n",
            "|(8,[1,5,6,7],[1.5...|       0|[11.8109079422493...|[0.99999257691163...|       0.0|\n",
            "|(8,[1,5,6,7],[1.5...|       0|[6.46704382462454...|[0.99844859829515...|       0.0|\n",
            "|(8,[1,5,6,7],[1.5...|       0|[8.42456946641424...|[0.99978063835698...|       0.0|\n",
            "|(8,[1,5,6,7],[1.6...|       0|[7.94130066680910...|[0.99964438303487...|       0.0|\n",
            "|(8,[1,5,6,7],[1.7...|       0|[7.83696415084513...|[0.99960528988117...|       0.0|\n",
            "|(8,[1,5,6,7],[1.8...|       0|[8.55720347559709...|[0.99980788100514...|       0.0|\n",
            "|(8,[1,5,6,7],[1.8...|       0|[6.36416683143922...|[0.99828078506573...|       0.0|\n",
            "|(8,[1,5,6,7],[1.8...|       0|[12.4230630406269...|[0.99999597532769...|       0.0|\n",
            "|(8,[1,5,6,7],[2.0...|       0|[11.1473261143948...|[0.99998558643135...|       0.0|\n",
            "|(8,[1,5,6,7],[2.0...|       0|[9.76060546503094...|[0.99994232363822...|       0.0|\n",
            "|(8,[1,5,6,7],[2.0...|       0|[8.78540910147581...|[0.99984707486014...|       0.0|\n",
            "|(8,[1,5,6,7],[2.0...|       0|[8.13237978206724...|[0.99970621830690...|       0.0|\n",
            "|(8,[1,5,6,7],[2.0...|       0|[9.83382428292462...|[0.99994639551879...|       0.0|\n",
            "|(8,[1,5,6,7],[2.0...|       0|[6.59984069690148...|[0.99864126390997...|       0.0|\n",
            "|(8,[1,5,6,7],[2.0...|       0|[8.58075765463250...|[0.99981235249335...|       0.0|\n",
            "|(8,[1,5,6,7],[2.0...|       0|[9.07455383969389...|[0.99988546938340...|       0.0|\n",
            "|(8,[1,5,6,7],[2.0...|       0|[7.45657274377121...|[0.99942270098925...|       0.0|\n",
            "|(8,[1,5,6,7],[2.0...|       0|[6.10396306490903...|[0.99777098293771...|       0.0|\n",
            "|(8,[1,5,6,7],[2.0...|       0|[4.34003619811241...|[0.98713169562622...|       0.0|\n",
            "|(8,[1,5,6,7],[2.0...|       0|[7.65383348378107...|[0.99952600206560...|       0.0|\n",
            "|(8,[1,5,6,7],[2.0...|       0|[12.2737712647066...|[0.99999532731141...|       0.0|\n",
            "|(8,[1,5,6,7],[2.0...|       0|[8.85890220682001...|[0.99985790920562...|       0.0|\n",
            "|(8,[1,5,6,7],[2.0...|       0|[5.10949108288825...|[0.99399709689445...|       0.0|\n",
            "|(8,[1,5,6,7],[2.0...|       0|[4.24660458722472...|[0.98588921493831...|       0.0|\n",
            "|(8,[1,5,6,7],[3.0...|       0|[11.6812410323105...|[0.99999154920030...|       0.0|\n",
            "|(8,[1,5,6,7],[3.0...|       0|[6.16240450957180...|[0.99789725043295...|       0.0|\n",
            "|(8,[1,5,6,7],[3.0...|       0|[9.98111922049195...|[0.99995373688120...|       0.0|\n",
            "|(8,[1,5,6,7],[3.0...|       0|[11.0913685476657...|[0.99998475690266...|       0.0|\n",
            "|(8,[1,5,6,7],[3.0...|       0|[9.48944611270936...|[0.99992435973084...|       0.0|\n",
            "|(8,[1,5,6,7],[3.0...|       0|[12.0841229232149...|[0.99999435154539...|       0.0|\n",
            "|(8,[1,5,6,7],[3.0...|       0|[10.8412515550469...|[0.99998042527040...|       0.0|\n",
            "|(8,[1,5,6,7],[3.0...|       0|[8.96096840609674...|[0.99987169453859...|       0.0|\n",
            "|(8,[1,5,6,7],[3.0...|       0|[5.76241497031997...|[0.99686633975641...|       0.0|\n",
            "|(8,[1,5,6,7],[3.0...|       0|[7.20852729793060...|[0.99926030104388...|       0.0|\n",
            "|(8,[1,5,6,7],[3.0...|       0|[6.43670483182187...|[0.99840088547737...|       0.0|\n",
            "|(8,[1,5,6,7],[3.0...|       0|[13.1178990319230...|[0.99999799105538...|       0.0|\n",
            "|(8,[1,5,6,7],[3.0...|       0|[7.13677530154183...|[0.99920531941034...|       0.0|\n",
            "|(8,[1,5,6,7],[3.0...|       0|[7.19381197168175...|[0.99924934388186...|       0.0|\n",
            "|(8,[1,5,6,7],[3.0...|       0|[4.16710178188147...|[0.98473938629178...|       0.0|\n",
            "|(8,[1,5,6,7],[3.0...|       0|[3.76861753557954...|[0.97743689176879...|       0.0|\n",
            "|(8,[1,5,6,7],[4.0...|       0|[8.21682946855493...|[0.99973000294382...|       0.0|\n",
            "|(8,[1,5,6,7],[4.0...|       0|[5.26229735473634...|[0.99484334595242...|       0.0|\n",
            "|(8,[1,5,6,7],[4.0...|       0|[9.73658075173006...|[0.99994092128390...|       0.0|\n",
            "|(8,[1,5,6,7],[4.0...|       0|[10.8026833738825...|[0.99997965557660...|       0.0|\n",
            "|(8,[1,5,6,7],[4.0...|       0|[11.0205840517445...|[0.99998363884144...|       0.0|\n",
            "|(8,[1,5,6,7],[4.0...|       0|[7.06079311176861...|[0.99914263844261...|       0.0|\n",
            "|(8,[1,5,6,7],[4.0...|       0|[8.63879949735696...|[0.99982293197568...|       0.0|\n",
            "|(8,[1,5,6,7],[4.0...|       0|[8.55517447318022...|[0.99980749087462...|       0.0|\n",
            "|(8,[1,5,6,7],[4.0...|       0|[12.0002885975801...|[0.99999385759832...|       0.0|\n",
            "|(8,[1,5,6,7],[4.0...|       1|[-2.9568910775461...|[0.04941182871187...|       1.0|\n",
            "|(8,[1,5,6,7],[4.0...|       0|[5.96254624109239...|[0.99743325388903...|       0.0|\n",
            "|(8,[1,5,6,7],[4.0...|       0|[5.05509884465884...|[0.99366366868982...|       0.0|\n",
            "|(8,[1,5,6,7],[4.0...|       0|[7.88699674074255...|[0.99962454512463...|       0.0|\n",
            "|(8,[1,5,6,7],[4.0...|       1|[5.36652700422298...|[0.99535138733397...|       0.0|\n",
            "|(8,[1,5,6,7],[4.0...|       0|[5.79547845765958...|[0.99696794635160...|       0.0|\n",
            "|(8,[1,5,6,7],[4.0...|       0|[10.3105593535533...|[0.99996672128760...|       0.0|\n",
            "|(8,[1,5,6,7],[4.0...|       0|[6.79118639562246...|[0.99887762623079...|       0.0|\n",
            "|(8,[1,5,6,7],[4.0...|       0|[4.68910798358360...|[0.99088889110673...|       0.0|\n",
            "|(8,[1,5,6,7],[4.0...|       0|[6.87569648439128...|[0.99896848690441...|       0.0|\n",
            "|(8,[1,5,6,7],[4.0...|       0|[8.60226567668331...|[0.99981634459386...|       0.0|\n",
            "|(8,[1,5,6,7],[4.0...|       0|[7.56567628974307...|[0.99948234112890...|       0.0|\n",
            "|(8,[1,5,6,7],[4.0...|       0|[4.08759897653823...|[0.98349743126891...|       0.0|\n",
            "|(8,[1,5,6,7],[5.0...|       0|[7.54728345850001...|[0.99947273688294...|       0.0|\n",
            "|(8,[1,5,6,7],[5.0...|       0|[9.22236350058895...|[0.99990120487540...|       0.0|\n",
            "|(8,[1,5,6,7],[5.0...|       0|[11.7006556866931...|[0.99999171168590...|       0.0|\n",
            "|(8,[1,5,6,7],[5.0...|       0|[5.81776176905950...|[0.99703456518927...|       0.0|\n",
            "|(8,[1,5,6,7],[5.0...|       0|[6.59837251718583...|[0.99863927029254...|       0.0|\n",
            "|(8,[1,5,6,7],[5.0...|       0|[10.4387700015076...|[0.99997072566242...|       0.0|\n",
            "|(8,[1,5,6,7],[5.0...|       0|[11.2597944886706...|[0.99998711964620...|       0.0|\n",
            "|(8,[1,5,6,7],[5.0...|       0|[11.7482992395960...|[0.99999209730835...|       0.0|\n",
            "|(8,[1,5,6,7],[5.0...|       0|[11.9445685646108...|[0.99999350563096...|       0.0|\n",
            "|(8,[1,5,6,7],[5.0...|       0|[10.0163529084436...|[0.99995533844845...|       0.0|\n",
            "|(8,[1,5,6,7],[5.0...|       0|[7.22942835423153...|[0.99927558999943...|       0.0|\n",
            "|(8,[1,5,6,7],[5.0...|       0|[4.93456276130292...|[0.99285777278445...|       0.0|\n",
            "|(8,[1,5,6,7],[5.0...|       0|[11.5034985140669...|[0.99998990538665...|       0.0|\n",
            "|(8,[1,5,6,7],[5.0...|       0|[5.18192734746028...|[0.99441420661266...|       0.0|\n",
            "|(8,[1,5,6,7],[5.0...|       0|[13.1608991510118...|[0.99999807560913...|       0.0|\n",
            "|(8,[1,5,6,7],[5.0...|       0|[11.8013122347901...|[0.99999250533953...|       0.0|\n",
            "|(8,[1,5,6,7],[5.0...|       0|[7.27919498441320...|[0.99931073482198...|       0.0|\n",
            "|(8,[1,5,6,7],[5.0...|       0|[7.20182306286409...|[0.99925532897277...|       0.0|\n",
            "|(8,[1,5,6,7],[5.0...|       0|[8.16241463784842...|[0.99971490832711...|       0.0|\n",
            "|(8,[1,5,6,7],[5.0...|       0|[10.4942590589680...|[0.99997230577786...|       0.0|\n",
            "|(8,[1,5,6,7],[5.0...|       0|[10.9393450878886...|[0.99998225422030...|       0.0|\n",
            "|(8,[1,5,6,7],[5.0...|       0|[8.89101359598245...|[0.99986239884059...|       0.0|\n",
            "|(8,[1,5,6,7],[5.0...|       0|[13.4914924282564...|[0.99999861732953...|       0.0|\n",
            "|(8,[1,5,6,7],[6.0...|       0|[8.01730552307580...|[0.99967040145551...|       0.0|\n",
            "|(8,[1,5,6,7],[6.0...|       0|[11.4899885610357...|[0.99998976808491...|       0.0|\n",
            "|(8,[1,5,6,7],[6.0...|       0|[5.24845601771534...|[0.99477185046985...|       0.0|\n",
            "|(8,[1,5,6,7],[6.0...|       0|[8.24588387475909...|[0.99973773265573...|       0.0|\n",
            "+--------------------+--------+--------------------+--------------------+----------+\n",
            "only showing top 100 rows\n",
            "\n"
          ]
        }
      ]
    },
    {
      "cell_type": "code",
      "metadata": {
        "id": "A4BHCxCiQ4l-",
        "colab": {
          "base_uri": "https://localhost:8080/"
        },
        "outputId": "b9181dba-2f7f-42d0-b29a-f1b847e1559e"
      },
      "source": [
        "# Calculate Model efficiency\n",
        "evaluator = BinaryClassificationEvaluator(rawPredictionCol= 'rawPrediction', labelCol='diabetes')\n",
        "evaluator.evaluate(model.transform(test))"
      ],
      "execution_count": 43,
      "outputs": [
        {
          "output_type": "execute_result",
          "data": {
            "text/plain": [
              "0.9547194674313324"
            ]
          },
          "metadata": {},
          "execution_count": 43
        }
      ]
    },
    {
      "cell_type": "code",
      "metadata": {
        "id": "ERpRUFOHQ4x5"
      },
      "source": [
        "# Save model so that it can be loaded later to test with external dataset and can be utlized to support flask app. Model will be saved under /content folder of colab.\n",
        "model.save(\"model\")"
      ],
      "execution_count": 44,
      "outputs": []
    },
    {
      "cell_type": "code",
      "metadata": {
        "id": "4zSA9_KCQ47W"
      },
      "source": [
        "# Load saved model back to the environment\n",
        "from pyspark.ml.classification import LogisticRegressionModel\n",
        "\n",
        "model = LogisticRegressionModel.load('model')"
      ],
      "execution_count": 45,
      "outputs": []
    },
    {
      "cell_type": "markdown",
      "metadata": {
        "id": "Iznukr-xRANo"
      },
      "source": [
        "# PART 7: Prediction on New Data with the saved model\n"
      ]
    },
    {
      "cell_type": "code",
      "metadata": {
        "id": "MBq2hq27RdHB"
      },
      "source": [
        "# Create a new spark dataframe based on the another external dataset that will be evaluated against ML model\n",
        "test_df = spark.read.csv('/content/Project4-DiabetesPrediction/dataset/diabetes_test_dataset.csv', header=True, inferSchema=True)"
      ],
      "execution_count": 46,
      "outputs": []
    },
    {
      "cell_type": "code",
      "metadata": {
        "id": "co8K0NZsRdQB",
        "colab": {
          "base_uri": "https://localhost:8080/"
        },
        "outputId": "8365c79f-614c-454d-e681-94b4418601cf"
      },
      "source": [
        "# Print the schema\n",
        "test_df.printSchema()"
      ],
      "execution_count": 47,
      "outputs": [
        {
          "output_type": "stream",
          "name": "stdout",
          "text": [
            "root\n",
            " |-- gender: integer (nullable = true)\n",
            " |-- age: integer (nullable = true)\n",
            " |-- hypertension: integer (nullable = true)\n",
            " |-- heart_disease: integer (nullable = true)\n",
            " |-- smoking_history: integer (nullable = true)\n",
            " |-- bmi: double (nullable = true)\n",
            " |-- HbA1c_level: double (nullable = true)\n",
            " |-- blood_glucose_level: integer (nullable = true)\n",
            "\n"
          ]
        }
      ]
    },
    {
      "cell_type": "code",
      "metadata": {
        "id": "J7jtGf4lRdaz"
      },
      "source": [
        "# Create an additional feature merged column\n",
        "test_data = assembler.transform(test_df)"
      ],
      "execution_count": 48,
      "outputs": []
    },
    {
      "cell_type": "code",
      "metadata": {
        "id": "kd1glzOnRdkq",
        "colab": {
          "base_uri": "https://localhost:8080/"
        },
        "outputId": "c0158c61-a5d6-46b8-9fcd-b94866b4f075"
      },
      "source": [
        "# Print the schema\n",
        "test_data.printSchema()"
      ],
      "execution_count": 49,
      "outputs": [
        {
          "output_type": "stream",
          "name": "stdout",
          "text": [
            "root\n",
            " |-- gender: integer (nullable = true)\n",
            " |-- age: integer (nullable = true)\n",
            " |-- hypertension: integer (nullable = true)\n",
            " |-- heart_disease: integer (nullable = true)\n",
            " |-- smoking_history: integer (nullable = true)\n",
            " |-- bmi: double (nullable = true)\n",
            " |-- HbA1c_level: double (nullable = true)\n",
            " |-- blood_glucose_level: integer (nullable = true)\n",
            " |-- features: vector (nullable = true)\n",
            "\n"
          ]
        }
      ]
    },
    {
      "cell_type": "code",
      "metadata": {
        "id": "40Dck7K_Rdxh",
        "colab": {
          "base_uri": "https://localhost:8080/"
        },
        "outputId": "858bc90d-475f-4df6-f801-bd00ad2db18c"
      },
      "source": [
        "# Use model to make predictions\n",
        "results = model.transform(test_data)\n",
        "results.printSchema()"
      ],
      "execution_count": 50,
      "outputs": [
        {
          "output_type": "stream",
          "name": "stdout",
          "text": [
            "root\n",
            " |-- gender: integer (nullable = true)\n",
            " |-- age: integer (nullable = true)\n",
            " |-- hypertension: integer (nullable = true)\n",
            " |-- heart_disease: integer (nullable = true)\n",
            " |-- smoking_history: integer (nullable = true)\n",
            " |-- bmi: double (nullable = true)\n",
            " |-- HbA1c_level: double (nullable = true)\n",
            " |-- blood_glucose_level: integer (nullable = true)\n",
            " |-- features: vector (nullable = true)\n",
            " |-- rawPrediction: vector (nullable = true)\n",
            " |-- probability: vector (nullable = true)\n",
            " |-- prediction: double (nullable = false)\n",
            "\n"
          ]
        }
      ]
    },
    {
      "cell_type": "code",
      "metadata": {
        "id": "AHpfS2SjRd7s",
        "colab": {
          "base_uri": "https://localhost:8080/"
        },
        "outputId": "cc07c1bb-bc36-4f1c-992d-01404947ba0a"
      },
      "source": [
        "# Display the predictions and probability\n",
        "results.select('features','probability','prediction').show()"
      ],
      "execution_count": 51,
      "outputs": [
        {
          "output_type": "stream",
          "name": "stdout",
          "text": [
            "+--------------------+--------------------+----------+\n",
            "|            features|         probability|prediction|\n",
            "+--------------------+--------------------+----------+\n",
            "|[0.0,80.0,1.0,1.0...|[0.40850955819149...|       1.0|\n",
            "|[1.0,28.0,0.0,0.0...|[0.99033854760961...|       0.0|\n",
            "|[0.0,36.0,0.0,0.0...|[0.99857323933788...|       0.0|\n",
            "|[1.0,76.0,1.0,1.0...|[0.97428170680530...|       0.0|\n",
            "|(8,[1,5,6,7],[20....|[0.99629747898381...|       0.0|\n",
            "|(8,[1,5,6,7],[44....|[0.83395120741798...|       0.0|\n",
            "|[1.0,42.0,0.0,0.0...|[0.99738408449781...|       0.0|\n",
            "|(8,[1,5,6,7],[32....|[0.99974089677736...|       0.0|\n",
            "+--------------------+--------------------+----------+\n",
            "\n"
          ]
        }
      ]
    },
    {
      "cell_type": "markdown",
      "source": [
        "# PART 8: Host a Flask App which will take subjects parameters and return probablity and prediction on being diabetic or not based on ML model above"
      ],
      "metadata": {
        "id": "IKwLb4u2OB-6"
      }
    },
    {
      "cell_type": "code",
      "source": [
        "# Import dependencies to run Flask app and host it on publicly accessible colab URL\n",
        "from flask import *\n",
        "from google.colab import output\n",
        "from google.colab.output import eval_js"
      ],
      "metadata": {
        "id": "f5MRzVzRGdLn"
      },
      "execution_count": 53,
      "outputs": []
    },
    {
      "cell_type": "code",
      "source": [
        "# Initialize Flask app\n",
        "app=Flask(__name__, template_folder='/content/Project4-DiabetesPrediction/html')\n"
      ],
      "metadata": {
        "id": "9Wj4Xo3ZGkXY"
      },
      "execution_count": 54,
      "outputs": []
    },
    {
      "cell_type": "code",
      "source": [
        "# Render Home page for Diabetes Prediction to take subject parameters as input\n",
        "@app.route('/')\n",
        "def home():\n",
        "    return render_template('index.html')\n",
        "\n"
      ],
      "metadata": {
        "id": "Df-lDH6cJ1o3"
      },
      "execution_count": 55,
      "outputs": []
    },
    {
      "cell_type": "code",
      "source": [
        "# Dynamic API that will take parameters of subject through Web UI and leverage ML Model above to return probability & prediction for being diabetic\n",
        "@app.route('/api/v1.0/predict/<gender>/<age>/<hypertension>/<heart_disease>/<smoking_history>/<bmi>/<HbA1c_level>/<blood_glucose_level>')\n",
        "def predict(gender,age,hypertension,heart_disease,smoking_history,bmi,HbA1c_level,blood_glucose_level):\n",
        "    # Create a tuple from input parameters and convert them to int or float as they are treated as string when passed from Web UI\n",
        "    data = [(int(gender),int(age),int(hypertension),int(heart_disease),int(smoking_history),float(bmi),float(HbA1c_level),int(blood_glucose_level))]\n",
        "    columns = ['gender','age','hypertension','heart_disease','smoking_history','bmi','HbA1c_level','blood_glucose_level']\n",
        "\n",
        "    # Create spark dataframe for the input parameters\n",
        "    test_df = spark.createDataFrame(data,columns)\n",
        "\n",
        "    # Invoke ML Model and capture model output in results\n",
        "    test_data = assembler.transform(test_df)\n",
        "    results = model.transform(test_data)\n",
        "\n",
        "    # Return the results after converting it to JSON\n",
        "    return results.toJSON().first()"
      ],
      "metadata": {
        "id": "Zo9tL8hAKWT4"
      },
      "execution_count": 56,
      "outputs": []
    },
    {
      "cell_type": "code",
      "source": [
        "# Flask app when run gives local IP to access API. Since this is running on Cloud (Google Colab) and not on local notebook, local IP (127.0.0.1) will not be accessible.\n",
        "# Below code will ask colab to give us publicly accessible URL\n",
        "\n",
        "print(eval_js(\"google.colab.kernel.proxyPort(5000)\"))\n",
        "output.serve_kernel_port_as_window(5000)\n",
        "if __name__ == '__main__':\n",
        "    app.run(host='0.0.0.0',port=5000)"
      ],
      "metadata": {
        "colab": {
          "base_uri": "https://localhost:8080/",
          "height": 225
        },
        "id": "_nBfvcpZOmxv",
        "outputId": "60499ae8-8b5d-4924-ed58-a64c0bb32c97"
      },
      "execution_count": 57,
      "outputs": [
        {
          "output_type": "stream",
          "name": "stdout",
          "text": [
            "https://f44lm2ma47o-496ff2e9c6d22116-5000-colab.googleusercontent.com/\n"
          ]
        },
        {
          "output_type": "display_data",
          "data": {
            "text/plain": [
              "<IPython.core.display.Javascript object>"
            ],
            "application/javascript": [
              "(async (port, path, text, element) => {\n",
              "    if (!google.colab.kernel.accessAllowed) {\n",
              "      return;\n",
              "    }\n",
              "    element.appendChild(document.createTextNode(''));\n",
              "    const url = await google.colab.kernel.proxyPort(port);\n",
              "    const anchor = document.createElement('a');\n",
              "    anchor.href = new URL(path, url).toString();\n",
              "    anchor.target = '_blank';\n",
              "    anchor.setAttribute('data-href', url + path);\n",
              "    anchor.textContent = text;\n",
              "    element.appendChild(anchor);\n",
              "  })(5000, \"/\", \"https://localhost:5000/\", window.element)"
            ]
          },
          "metadata": {}
        },
        {
          "output_type": "stream",
          "name": "stdout",
          "text": [
            " * Serving Flask app '__main__'\n",
            " * Debug mode: off\n"
          ]
        },
        {
          "output_type": "stream",
          "name": "stderr",
          "text": [
            "INFO:werkzeug:\u001b[31m\u001b[1mWARNING: This is a development server. Do not use it in a production deployment. Use a production WSGI server instead.\u001b[0m\n",
            " * Running on all addresses (0.0.0.0)\n",
            " * Running on http://127.0.0.1:5000\n",
            " * Running on http://172.28.0.12:5000\n",
            "INFO:werkzeug:\u001b[33mPress CTRL+C to quit\u001b[0m\n",
            "INFO:werkzeug:127.0.0.1 - - [27/Feb/2024 04:48:43] \"GET / HTTP/1.1\" 200 -\n",
            "INFO:werkzeug:127.0.0.1 - - [27/Feb/2024 04:48:44] \"\u001b[33mGET /favicon.ico HTTP/1.1\u001b[0m\" 404 -\n",
            "INFO:werkzeug:127.0.0.1 - - [27/Feb/2024 04:49:10] \"GET /api/v1.0/predict/1/28/0/0/0/27.32/5.5/158 HTTP/1.1\" 200 -\n"
          ]
        }
      ]
    }
  ]
}